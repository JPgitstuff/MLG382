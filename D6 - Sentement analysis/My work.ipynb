{
 "cells": [
  {
   "cell_type": "code",
   "execution_count": 39,
   "id": "4770f835",
   "metadata": {},
   "outputs": [],
   "source": [
    "#import dependancies\n",
    "import nltk\n",
    "from nltk.sentiment.vader import SentimentIntensityAnalyzer"
   ]
  },
  {
   "cell_type": "code",
   "execution_count": null,
   "id": "e727574d",
   "metadata": {},
   "outputs": [
    {
     "name": "stderr",
     "output_type": "stream",
     "text": [
      "[nltk_data] Downloading package vader_lexicon to\n",
      "[nltk_data]     C:\\Users\\jpsea\\AppData\\Roaming\\nltk_data...\n",
      "[nltk_data]   Package vader_lexicon is already up-to-date!\n"
     ]
    },
    {
     "data": {
      "text/plain": [
       "True"
      ]
     },
     "execution_count": 40,
     "metadata": {},
     "output_type": "execute_result"
    }
   ],
   "source": [
    "nltk.download('vader_lexicon')# this is a pre trained model for sentiment analysis"
   ]
  },
  {
   "cell_type": "code",
   "execution_count": 41,
   "id": "9b1ef91c",
   "metadata": {},
   "outputs": [
    {
     "name": "stdout",
     "output_type": "stream",
     "text": [
      "{'neg': 0.0, 'neu': 0.204, 'pos': 0.796, 'compound': 0.5984}\n"
     ]
    }
   ],
   "source": [
    "#verry positive text\n",
    "text = \"very positive\"\n",
    "SentimentIntensityAnalyzer = SentimentIntensityAnalyzer().polarity_scores(text)\n",
    "print(SentimentIntensityAnalyzer)"
   ]
  },
  {
   "cell_type": "code",
   "execution_count": null,
   "id": "d77c9a4f",
   "metadata": {},
   "outputs": [
    {
     "ename": "TypeError",
     "evalue": "'dict' object is not callable",
     "output_type": "error",
     "traceback": [
      "\u001b[1;31m---------------------------------------------------------------------------\u001b[0m",
      "\u001b[1;31mTypeError\u001b[0m                                 Traceback (most recent call last)",
      "Cell \u001b[1;32mIn[49], line 9\u001b[0m\n\u001b[0;32m      6\u001b[0m \u001b[38;5;66;03m# Ensure the dataset has a column named 'text' for analysis\u001b[39;00m\n\u001b[0;32m      7\u001b[0m \u001b[38;5;28;01mif\u001b[39;00m \u001b[38;5;124m'\u001b[39m\u001b[38;5;124mSentiment\u001b[39m\u001b[38;5;124m'\u001b[39m \u001b[38;5;129;01min\u001b[39;00m dataset\u001b[38;5;241m.\u001b[39mcolumns:\n\u001b[0;32m      8\u001b[0m     \u001b[38;5;66;03m# Perform sentiment analysis on each row\u001b[39;00m\n\u001b[1;32m----> 9\u001b[0m     analyzer \u001b[38;5;241m=\u001b[39m SentimentIntensityAnalyzer()\n\u001b[0;32m     10\u001b[0m     dataset[\u001b[38;5;124m'\u001b[39m\u001b[38;5;124msentiment_scores\u001b[39m\u001b[38;5;124m'\u001b[39m] \u001b[38;5;241m=\u001b[39m dataset[\u001b[38;5;124m'\u001b[39m\u001b[38;5;124mSentiment\u001b[39m\u001b[38;5;124m'\u001b[39m]\u001b[38;5;241m.\u001b[39mapply(\u001b[38;5;28;01mlambda\u001b[39;00m x: analyzer\u001b[38;5;241m.\u001b[39mpolarity_scores(x))\n\u001b[0;32m     11\u001b[0m     \u001b[38;5;28mprint\u001b[39m(dataset[[\u001b[38;5;124m'\u001b[39m\u001b[38;5;124mSentiment\u001b[39m\u001b[38;5;124m'\u001b[39m, \u001b[38;5;124m'\u001b[39m\u001b[38;5;124msentiment_scores\u001b[39m\u001b[38;5;124m'\u001b[39m]])\n",
      "\u001b[1;31mTypeError\u001b[0m: 'dict' object is not callable"
     ]
    }
   ],
   "source": [
    "import pandas as pd\n",
    "\n",
    "# Load the dataset\n",
    "dataset = pd.read_excel('sentiment_analysis_dataset.xlsx')\n",
    "\n",
    "# Ensure the dataset has a column named 'text' for analysis\n",
    "if 'Sentiment' in dataset.columns:\n",
    "    # Perform sentiment analysis on each row\n",
    "    analyzer = SentimentIntensityAnalyzer()\n",
    "    dataset['sentiment_scores'] = dataset['Sentiment'].apply(lambda x: analyzer.polarity_scores(x))\n",
    "    print(dataset[['Sentiment', 'sentiment_scores']])\n",
    "else:\n",
    "    print(\"The dataset does not contain a 'text' column.\")"
   ]
  }
 ],
 "metadata": {
  "kernelspec": {
   "display_name": "base",
   "language": "python",
   "name": "python3"
  },
  "language_info": {
   "codemirror_mode": {
    "name": "ipython",
    "version": 3
   },
   "file_extension": ".py",
   "mimetype": "text/x-python",
   "name": "python",
   "nbconvert_exporter": "python",
   "pygments_lexer": "ipython3",
   "version": "3.12.7"
  }
 },
 "nbformat": 4,
 "nbformat_minor": 5
}
