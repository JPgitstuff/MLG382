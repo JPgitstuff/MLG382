{
 "cells": [
  {
   "cell_type": "markdown",
   "id": "dfa5c5f8",
   "metadata": {},
   "source": [
    "A process for **solving** a data-science, AI or machine-learning **problem** consists of iteratively:\n",
    "\n",
    "- Trying to understand the problem\n",
    "- Attempting a solution to the problem\n",
    "- Evaluating the solution\n",
    "- Implementing the solution"
   ]
  },
  {
   "cell_type": "code",
   "execution_count": 2,
   "id": "d5d3e3f1",
   "metadata": {},
   "outputs": [],
   "source": [
    "import pandas as pd\n",
    "import numpy as np\n",
    "import seaborn"
   ]
  },
  {
   "cell_type": "markdown",
   "id": "88ca980e",
   "metadata": {},
   "source": [
    "Since pandas is a python library that works in conjunction with numpy, there are certain aspects of python that are important to know:\n",
    "\n",
    "    importing libraries\n",
    "    indexing of arrays\n",
    "    slicing of arrays\n",
    "    dictionaries\n",
    "    functions and methods\n",
    "    lambda functions\n",
    "    list comprehensions"
   ]
  }
 ],
 "metadata": {
  "kernelspec": {
   "display_name": "Python 3",
   "language": "python",
   "name": "python3"
  },
  "language_info": {
   "codemirror_mode": {
    "name": "ipython",
    "version": 3
   },
   "file_extension": ".py",
   "mimetype": "text/x-python",
   "name": "python",
   "nbconvert_exporter": "python",
   "pygments_lexer": "ipython3",
   "version": "3.11.8"
  }
 },
 "nbformat": 4,
 "nbformat_minor": 5
}
