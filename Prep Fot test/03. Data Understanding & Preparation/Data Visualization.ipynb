{
 "cells": [
  {
   "cell_type": "code",
   "execution_count": 1,
   "id": "c02b6535",
   "metadata": {},
   "outputs": [],
   "source": [
    "import numpy as np\n",
    "import pandas as pd\n",
    "import IPython.display as display\n",
    "import seaborn as sns\n",
    "import matplotlib.pyplot as plt"
   ]
  },
  {
   "cell_type": "markdown",
   "id": "ce7bf2a2",
   "metadata": {},
   "source": [
    "Common Data Visualization Tools\n",
    "There are several data visualization tools that one can use to aid in machine learning.\n",
    "\n",
    "Matplotlib (Python): A fundamental library for creating static, customizable visualizations like scatter plots, histograms, and line charts.\n",
    "\n",
    "Seaborn (Python): Built on top of Matplotlib, it offers a high-level interface for creating statistical graphics with a focus on aesthetics and ease of use.\n",
    "\n",
    "TensorBoard (TensorFlow): A visualization toolkit specifically designed for visualizing and debugging deep learning models. It provides real-time insights into training progress, loss functions, and feature distributions.\n",
    "\n",
    "Plotly: A versatile tool that allows for creating interactive visualizations across various programming languages. These visualizations can be embedded in web applications or reports for wider dissemination.\n",
    "\n",
    "Power BI/Tableau: Business intelligence platforms that offer a wide range of features for data exploration, visualization, and dashboard creation. They can be particularly useful for communicating machine learning results to non-technical audiences."
   ]
  },
  {
   "cell_type": "markdown",
   "id": "504749a9",
   "metadata": {},
   "source": [
    "### Visualizing Machine Learning Data\n",
    "**Scatter Plots:** Ideal for exploring relationships between two variables. They are often used to visualize the distribution of features and identify potential correlations or outliers.\n",
    "\n",
    "**Histograms:** Useful for understanding the distribution of a single numerical variable. They reveal patterns like skewness or clustering within the data.\n",
    "\n",
    "**Line Charts:** Effective for displaying trends or changes over time. In machine learning, they can be used to visualize the learning curve of a model or track performance metrics during training.\n",
    "\n",
    "**Heatmaps:** Used to represent the magnitude of a relationship between two categorical variables. They can be helpful for identifying patterns or clusters in high-dimensional datasets.\n",
    "\n",
    "**Confusion Matrix:** A table that visually summarizes the performance of a classification model. It shows how many instances were correctly classified and how many were misclassified."
   ]
  },
  {
   "cell_type": "code",
   "execution_count": 3,
   "id": "2f9f37a6",
   "metadata": {},
   "outputs": [
    {
     "ename": "NameError",
     "evalue": "name 'x_train' is not defined",
     "output_type": "error",
     "traceback": [
      "\u001b[31m---------------------------------------------------------------------------\u001b[39m",
      "\u001b[31mNameError\u001b[39m                                 Traceback (most recent call last)",
      "\u001b[36mCell\u001b[39m\u001b[36m \u001b[39m\u001b[32mIn[3]\u001b[39m\u001b[32m, line 2\u001b[39m\n\u001b[32m      1\u001b[39m fig, ax = plt.subplots(figsize=(\u001b[32m5\u001b[39m, \u001b[32m4\u001b[39m))\n\u001b[32m----> \u001b[39m\u001b[32m2\u001b[39m plt.scatter(\u001b[43mx_train\u001b[49m, y_train, color=\u001b[33m'\u001b[39m\u001b[33mblue\u001b[39m\u001b[33m'\u001b[39m, s=\u001b[32m10\u001b[39m)\n\u001b[32m      3\u001b[39m plt.plot(x,y, color=\u001b[33m'\u001b[39m\u001b[33mred\u001b[39m\u001b[33m'\u001b[39m)\n\u001b[32m      4\u001b[39m plt.xlabel(\u001b[33m'\u001b[39m\u001b[33mYears Experience\u001b[39m\u001b[33m'\u001b[39m)\n",
      "\u001b[31mNameError\u001b[39m: name 'x_train' is not defined"
     ]
    },
    {
     "data": {
      "image/png": "[encoded data removed]",
      "text/plain": [
       "<Figure size 500x400 with 1 Axes>"
      ]
     },
     "metadata": {},
     "output_type": "display_data"
    }
   ],
   "source": [
    "fig, ax = plt.subplots(figsize=(5, 4))\n",
    "plt.scatter(x_train, y_train, color='blue', s=10)\n",
    "plt.plot(x,y, color='red')\n",
    "plt.xlabel('Years Experience')\n",
    "plt.ylabel('Salary (R)')\n",
    "plt.xlim([0,10])\n",
    "plt.show()"
   ]
  },
  {
   "cell_type": "markdown",
   "id": "4b5a1ee1",
   "metadata": {},
   "source": [
    "### Choosing the Right Tool and Technique\n",
    "The most suitable data visualization tool and technique depend on the specific machine learning task and the desired outcome.\n",
    "\n",
    "Type of Data: For numerical data, scatter plots and histograms are often appropriate. Categorical data might benefit from bar charts or heatmaps.\n",
    "\n",
    "Complexity of Analysis: Simple exploratory tasks might be well-served by basic libraries like Matplotlib. For interactive visualizations or complex model debugging, tools like TensorBoard or Plotly might be more suitable.\n",
    "\n",
    "Target Audience: For technical audiences, detailed plots with code might be appropriate. When communicating with non-technical stakeholders, simpler and more visually appealing visualizations created with tools like Power BI or Tableau might be more effective."
   ]
  },
  {
   "cell_type": "code",
   "execution_count": 4,
   "id": "18d17198",
   "metadata": {},
   "outputs": [
    {
     "ename": "NameError",
     "evalue": "name 'x_train' is not defined",
     "output_type": "error",
     "traceback": [
      "\u001b[31m---------------------------------------------------------------------------\u001b[39m",
      "\u001b[31mNameError\u001b[39m                                 Traceback (most recent call last)",
      "\u001b[36mCell\u001b[39m\u001b[36m \u001b[39m\u001b[32mIn[4]\u001b[39m\u001b[32m, line 2\u001b[39m\n\u001b[32m      1\u001b[39m fig, ax = plt.subplots(figsize=(\u001b[32m5\u001b[39m, \u001b[32m4\u001b[39m))\n\u001b[32m----> \u001b[39m\u001b[32m2\u001b[39m plt.scatter(\u001b[43mx_train\u001b[49m, y_train, color=\u001b[33m'\u001b[39m\u001b[33mblue\u001b[39m\u001b[33m'\u001b[39m, s=\u001b[32m10\u001b[39m)\n\u001b[32m      3\u001b[39m plt.plot(x,y, color=\u001b[33m'\u001b[39m\u001b[33mred\u001b[39m\u001b[33m'\u001b[39m)\n\u001b[32m      4\u001b[39m plt.xlabel(\u001b[33m'\u001b[39m\u001b[33mYears Experience\u001b[39m\u001b[33m'\u001b[39m)\n",
      "\u001b[31mNameError\u001b[39m: name 'x_train' is not defined"
     ]
    },
    {
     "data": {
      "image/png": "[encoded data removed]",
      "text/plain": [
       "<Figure size 500x400 with 1 Axes>"
      ]
     },
     "metadata": {},
     "output_type": "display_data"
    }
   ],
   "source": [
    "fig, ax = plt.subplots(figsize=(5, 4))\n",
    "plt.scatter(x_train, y_train, color='blue', s=10)\n",
    "plt.plot(x,y, color='red')\n",
    "plt.xlabel('Years Experience')\n",
    "plt.ylabel('Salary (R)')\n",
    "plt.xlim([0,10])\n",
    "plt.show()"
   ]
  }
 ],
 "metadata": {
  "kernelspec": {
   "display_name": "Python 3",
   "language": "python",
   "name": "python3"
  },
  "language_info": {
   "codemirror_mode": {
    "name": "ipython",
    "version": 3
   },
   "file_extension": ".py",
   "mimetype": "text/x-python",
   "name": "python",
   "nbconvert_exporter": "python",
   "pygments_lexer": "ipython3",
   "version": "3.11.8"
  }
 },
 "nbformat": 4,
 "nbformat_minor": 5
}
