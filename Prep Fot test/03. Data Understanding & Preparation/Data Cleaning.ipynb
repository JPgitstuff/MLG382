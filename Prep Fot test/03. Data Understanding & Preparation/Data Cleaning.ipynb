{
 "cells": [
  {
   "cell_type": "code",
   "execution_count": null,
   "id": "c2c4ddc1",
   "metadata": {},
   "outputs": [],
   "source": [
    "import numpy as np\n",
    "import pandas as pd\n",
    "import sklearn\n"
   ]
  },
  {
   "cell_type": "markdown",
   "id": "669d2efb",
   "metadata": {},
   "source": [
    "✅ Recommended Order in a Full Pipeline (for Skewed Data with Outliers):\n",
    "🧼 Handle Missing Values\n",
    "\n",
    "📏 Remove Outliers\n",
    "\n",
    "🔀 Transform Skewed Features\n",
    "\n",
    "📊 Scale the Data\n",
    "\n",
    "🤖 Model Training"
   ]
  },
  {
   "cell_type": "code",
   "execution_count": null,
   "id": "2794c3f5",
   "metadata": {},
   "outputs": [],
   "source": [
    "df = pd.read_csv('global_housing_market_extended.csv')"
   ]
  },
  {
   "cell_type": "markdown",
   "id": "eab47964",
   "metadata": {},
   "source": [
    "Table of Contents:\n",
    "1. Dealing with Missing Data\n",
    "2. Dealing with Duplicates\n",
    "3. Outlier Detection\n",
    "4. Encode Categorical Features\n",
    "5. Transformation"
   ]
  },
  {
   "cell_type": "markdown",
   "id": "b44d50db",
   "metadata": {},
   "source": [
    "##### 1. Dealing with Missing data\n",
    "Check missing data in each column of the dataset\n"
   ]
  },
  {
   "cell_type": "code",
   "execution_count": null,
   "id": "8c11c673",
   "metadata": {},
   "outputs": [],
   "source": [
    "df.isnull().sum()"
   ]
  },
  {
   "cell_type": "markdown",
   "id": "71dc60ca",
   "metadata": {},
   "source": [
    "delete missing data "
   ]
  },
  {
   "cell_type": "code",
   "execution_count": null,
   "id": "5b0a6c7c",
   "metadata": {},
   "outputs": [],
   "source": [
    "df.dropna(how='all')"
   ]
  },
  {
   "cell_type": "markdown",
   "id": "65093958",
   "metadata": {},
   "source": [
    "Drop columns that have missing values"
   ]
  },
  {
   "cell_type": "code",
   "execution_count": null,
   "id": "21a29e9c",
   "metadata": {},
   "outputs": [],
   "source": [
    "df.dropna(how='columns')"
   ]
  },
  {
   "cell_type": "markdown",
   "id": "7309ebea",
   "metadata": {},
   "source": [
    "Drop specific columns that have missing values"
   ]
  },
  {
   "cell_type": "code",
   "execution_count": null,
   "id": "bfda8b9a",
   "metadata": {},
   "outputs": [],
   "source": [
    "df.dropna(subset = ['Column_Name', 'Column_Name'])"
   ]
  },
  {
   "cell_type": "markdown",
   "id": "072a55b6",
   "metadata": {},
   "source": [
    "Replace missing values with Mean/Median/Mode"
   ]
  },
  {
   "cell_type": "code",
   "execution_count": null,
   "id": "87156641",
   "metadata": {},
   "outputs": [],
   "source": [
    "df[\"Price\"].fillna(df['Price'].mean())\n",
    "df[\"Price\"].fillna(df['Price'].median())\n",
    "df[\"Price\"].fillna(df['Price'].mode())"
   ]
  },
  {
   "cell_type": "markdown",
   "id": "1d9d7e42",
   "metadata": {},
   "source": [
    "Forward Fill - Fill missing values with values before them"
   ]
  },
  {
   "cell_type": "code",
   "execution_count": null,
   "id": "ddfbffd2",
   "metadata": {},
   "outputs": [],
   "source": [
    "df.fillna(method = 'ffil')"
   ]
  },
  {
   "cell_type": "markdown",
   "id": "e8414fa0",
   "metadata": {},
   "source": [
    "Backward Fill - FIll missing values with values after them"
   ]
  },
  {
   "cell_type": "code",
   "execution_count": null,
   "id": "d6b8d7f2",
   "metadata": {},
   "outputs": [],
   "source": [
    "df.fillna(method = 'bfill')"
   ]
  },
  {
   "cell_type": "markdown",
   "id": "e0794223",
   "metadata": {},
   "source": [
    "Fill missing values using the interpolation method"
   ]
  },
  {
   "cell_type": "code",
   "execution_count": null,
   "id": "5c1e0e16",
   "metadata": {},
   "outputs": [],
   "source": [
    "df['stockPrice'] = \n",
    "df['stockPrice'].interpolate(method = 'polynomial', order = 2)"
   ]
  },
  {
   "cell_type": "markdown",
   "id": "d0cd2f24",
   "metadata": {},
   "source": [
    "\n",
    "\n",
    "\n",
    "\n",
    "#### 2. Dealing with Duplicates\n",
    "Check if there are duplicates\n"
   ]
  },
  {
   "cell_type": "code",
   "execution_count": null,
   "id": "a55dcbb8",
   "metadata": {},
   "outputs": [],
   "source": [
    "df.duplicated().sum()"
   ]
  },
  {
   "cell_type": "markdown",
   "id": "c355f118",
   "metadata": {},
   "source": [
    "Extract duplicate rows from the dataframe"
   ]
  },
  {
   "cell_type": "code",
   "execution_count": null,
   "id": "18d30faf",
   "metadata": {},
   "outputs": [],
   "source": [
    "df.drop_duplicates()"
   ]
  },
  {
   "cell_type": "markdown",
   "id": "2d999bd7",
   "metadata": {},
   "source": [
    "#### 3. Outlier detection\n",
    "Detect range of values for each column of the dataset\n"
   ]
  },
  {
   "cell_type": "code",
   "execution_count": null,
   "id": "daf52544",
   "metadata": {},
   "outputs": [],
   "source": [
    "df.describe([x*0.1 for x in range(10)])"
   ]
  },
  {
   "cell_type": "markdown",
   "id": "b856026d",
   "metadata": {},
   "source": [
    "Display boxplot to display the distribution of a column"
   ]
  },
  {
   "cell_type": "code",
   "execution_count": null,
   "id": "7b71593b",
   "metadata": {},
   "outputs": [],
   "source": [
    "import seaborn as sns\n",
    "sns.boxplot(x=df['age'])"
   ]
  },
  {
   "cell_type": "markdown",
   "id": "7a59eb78",
   "metadata": {},
   "source": [
    "Display histogram to display the distribution of a column\n"
   ]
  },
  {
   "cell_type": "code",
   "execution_count": null,
   "id": "a597160b",
   "metadata": {},
   "outputs": [],
   "source": [
    "sns.displot(data=df['column1'])"
   ]
  },
  {
   "cell_type": "markdown",
   "id": "252a0723",
   "metadata": {},
   "source": [
    "Remove outliers"
   ]
  },
  {
   "cell_type": "code",
   "execution_count": null,
   "id": "958a3319",
   "metadata": {},
   "outputs": [],
   "source": [
    "df = df[df['age']<df['age'].quantile(0.9)]"
   ]
  },
  {
   "cell_type": "markdown",
   "id": "60801739",
   "metadata": {},
   "source": [
    "Outlier detection with machine learning models, like Isolation Forest"
   ]
  },
  {
   "cell_type": "code",
   "execution_count": null,
   "id": "81ff066f",
   "metadata": {},
   "outputs": [],
   "source": [
    "if = IsolationForest(random_state=42)\n",
    "if.fit(X)\n",
    "y_pred = if.predict(X)"
   ]
  },
  {
   "cell_type": "markdown",
   "id": "50f2ba73",
   "metadata": {},
   "source": [
    "#### 4. Encode categorical features\n",
    "Apply one-hot-encoding to a categorical column"
   ]
  },
  {
   "cell_type": "code",
   "execution_count": null,
   "id": "010c32e0",
   "metadata": {},
   "outputs": [],
   "source": [
    "from sklearn.prepreprocessing import OneHotEncoder\n",
    "ohe = OneHotEncoder()\n",
    "encoded_data =\n",
    "pd.DataFrame(ohe.fit_transform(df[[‘type_building’,’color’]]).toarray())\n",
    "new_df = df.join(encoded_data)\n"
   ]
  },
  {
   "cell_type": "markdown",
   "id": "b761846e",
   "metadata": {},
   "source": [
    "Apple label-encoding to a categorical column"
   ]
  },
  {
   "cell_type": "code",
   "execution_count": null,
   "id": "e437bc5e",
   "metadata": {},
   "outputs": [],
   "source": [
    "from sklearn.prepreprocessing import LabelEncoder\n",
    "le = LabelEncoder()\n",
    "df[‘column1’] = le.fit_transform(df[‘price_levels’])\n"
   ]
  },
  {
   "cell_type": "markdown",
   "id": "9ed69210",
   "metadata": {},
   "source": [
    "#### 5. Transformation\n",
    "Standardize features by removing the mean and scaling to unit variance"
   ]
  },
  {
   "cell_type": "code",
   "execution_count": null,
   "id": "bf569227",
   "metadata": {},
   "outputs": [],
   "source": [
    "from sklearn.processing import StandardScaler\n",
    "X_std = StandardScaler().transform(X)\n"
   ]
  },
  {
   "cell_type": "markdown",
   "id": "17dccf98",
   "metadata": {},
   "source": [
    "Rescale features into the range [0,1]\n"
   ]
  },
  {
   "cell_type": "code",
   "execution_count": null,
   "id": "4e9014fd",
   "metadata": {},
   "outputs": [],
   "source": [
    "from sklearn.processing import MinMaxScaler\n",
    "X_mms = MinMaxScaler().transform(X)\n"
   ]
  },
  {
   "cell_type": "markdown",
   "id": "5405a817",
   "metadata": {},
   "source": [
    "Scale features exploiting statistics that are robust to outliers"
   ]
  },
  {
   "cell_type": "code",
   "execution_count": null,
   "id": "80b05266",
   "metadata": {},
   "outputs": [],
   "source": [
    "from sklearn.processing import RobustScaler\n",
    "X_rs = RobustScaler().transform(X)"
   ]
  }
 ],
 "metadata": {
  "kernelspec": {
   "display_name": "Python 3",
   "language": "python",
   "name": "python3"
  },
  "language_info": {
   "codemirror_mode": {
    "name": "ipython",
    "version": 3
   },
   "file_extension": ".py",
   "mimetype": "text/x-python",
   "name": "python",
   "nbconvert_exporter": "python",
   "pygments_lexer": "ipython3",
   "version": "3.11.8"
  }
 },
 "nbformat": 4,
 "nbformat_minor": 5
}
