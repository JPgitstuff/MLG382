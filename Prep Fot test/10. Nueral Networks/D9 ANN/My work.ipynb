{
 "cells": [
  {
   "cell_type": "code",
   "execution_count": 121,
   "id": "ae1e3e2a",
   "metadata": {},
   "outputs": [],
   "source": [
    "import numpy as np"
   ]
  },
  {
   "cell_type": "code",
   "execution_count": 122,
   "id": "cf1a89e5",
   "metadata": {},
   "outputs": [
    {
     "name": "stdout",
     "output_type": "stream",
     "text": [
      "[[0.05]\n",
      " [0.1 ]]\n",
      "[0.01]\n"
     ]
    }
   ],
   "source": [
    "x = np.array([[0.05],\n",
    "              [0.10]])\n",
    "\n",
    "y = np.array([0.01])\n",
    " \n",
    "print(x)\n",
    "print(y)\n",
    " "
   ]
  },
  {
   "cell_type": "code",
   "execution_count": 123,
   "id": "f0299171",
   "metadata": {},
   "outputs": [],
   "source": [
    "a0 = x"
   ]
  },
  {
   "cell_type": "code",
   "execution_count": 124,
   "id": "352fadf1",
   "metadata": {},
   "outputs": [],
   "source": [
    "# Weight matrix for hidden layer (W^{(1)}) – shape (3, 2)\n",
    "W1 = np.array([[0.15, 0.20],\n",
    "               [0.25, 0.30],\n",
    "               [0.35, 0.40]])"
   ]
  },
  {
   "cell_type": "code",
   "execution_count": 125,
   "id": "c2fbbee4",
   "metadata": {},
   "outputs": [],
   "source": [
    "# Bias vector for hidden layer (b^{(1)}) – shape (3, 1)\n",
    "b1 = np.array([[0.35],\n",
    "               [0.35],\n",
    "               [0.35]])"
   ]
  },
  {
   "cell_type": "code",
   "execution_count": 126,
   "id": "69af83fa",
   "metadata": {},
   "outputs": [],
   "source": [
    "# Weight matrix for output layer (W^{(2)}) – shape (1, 3)\n",
    "W2 = np.array([[0.40, 0.45, 0.50]])"
   ]
  },
  {
   "cell_type": "code",
   "execution_count": 127,
   "id": "90521c3f",
   "metadata": {},
   "outputs": [],
   "source": [
    "# Bias vector for output layer (b^{(2)}) – shape (1, 1)\n",
    "b2 = np.array([[0.60]])"
   ]
  },
  {
   "cell_type": "code",
   "execution_count": 128,
   "id": "cdbcd045",
   "metadata": {},
   "outputs": [],
   "source": [
    "def sigmoid(z):\n",
    "    return 1 / (1 + np.exp(-z))"
   ]
  },
  {
   "cell_type": "markdown",
   "id": "34b70219",
   "metadata": {},
   "source": [
    "## Forward Pass"
   ]
  },
  {
   "cell_type": "code",
   "execution_count": 129,
   "id": "3284f71e",
   "metadata": {},
   "outputs": [
    {
     "data": {
      "text/plain": [
       "array([[0.59326999],\n",
       "       [0.59688438],\n",
       "       [0.60048827]])"
      ]
     },
     "execution_count": 129,
     "metadata": {},
     "output_type": "execute_result"
    }
   ],
   "source": [
    "z1 = W1 @ a0 + b1\n",
    "a1 = sigmoid(z1)\n",
    "a1"
   ]
  },
  {
   "cell_type": "code",
   "execution_count": 130,
   "id": "35659e2d",
   "metadata": {},
   "outputs": [
    {
     "data": {
      "text/plain": [
       "array([[0.803158]])"
      ]
     },
     "execution_count": 130,
     "metadata": {},
     "output_type": "execute_result"
    }
   ],
   "source": [
    "z2 = W2 @ a1 +b2\n",
    "a2 = sigmoid(z2)\n",
    "a2"
   ]
  },
  {
   "cell_type": "markdown",
   "id": "9d08630b",
   "metadata": {},
   "source": [
    "## Calculate loss"
   ]
  },
  {
   "cell_type": "code",
   "execution_count": 131,
   "id": "ca1dd99c",
   "metadata": {},
   "outputs": [
    {
     "name": "stdout",
     "output_type": "stream",
     "text": [
      "[[0.31454981]]\n"
     ]
    }
   ],
   "source": [
    "e = a2 - y\n",
    "loss = 0.5*e.T@e\n",
    "print(loss)"
   ]
  },
  {
   "cell_type": "markdown",
   "id": "533cb8d7",
   "metadata": {},
   "source": [
    "## Backward pass"
   ]
  },
  {
   "cell_type": "code",
   "execution_count": 132,
   "id": "568ba7e2",
   "metadata": {},
   "outputs": [],
   "source": [
    "def sigmoid_derivative (z):\n",
    "    s = sigmoid(z)\n",
    "    return s * (1 - s)\n"
   ]
  },
  {
   "cell_type": "markdown",
   "id": "d2da608a",
   "metadata": {},
   "source": [
    "## Step 1a: Calculate output layer Error Rate "
   ]
  },
  {
   "cell_type": "code",
   "execution_count": 133,
   "id": "59ca8d1d",
   "metadata": {},
   "outputs": [
    {
     "name": "stdout",
     "output_type": "stream",
     "text": [
      "Output layer error delatr2:  [[0.12539449]]\n"
     ]
    }
   ],
   "source": [
    "delta2 = (a2 - y) * sigmoid_derivative(z2)\n",
    "print(\"Output layer error delatr2: \", delta2)"
   ]
  },
  {
   "cell_type": "markdown",
   "id": "b5034cf7",
   "metadata": {},
   "source": [
    "## Step 1b : Calculate Hidden Layer Error Rates"
   ]
  },
  {
   "cell_type": "code",
   "execution_count": 134,
   "id": "ffe6ae2b",
   "metadata": {},
   "outputs": [
    {
     "name": "stdout",
     "output_type": "stream",
     "text": [
      "Hidden layer error delta1:\n",
      " [[0.01210311]\n",
      " [0.01357722]\n",
      " [0.0150412 ]]\n"
     ]
    }
   ],
   "source": [
    "delta1 = (W2.T @ delta2) * sigmoid_derivative(z1)\n",
    "print(\"Hidden layer error delta1:\\n\", delta1)"
   ]
  },
  {
   "cell_type": "markdown",
   "id": "6e5463fc",
   "metadata": {},
   "source": [
    "## Step 2: weight & bias Update"
   ]
  },
  {
   "cell_type": "code",
   "execution_count": 135,
   "id": "71570eb6",
   "metadata": {},
   "outputs": [],
   "source": [
    "eta = 0.5"
   ]
  },
  {
   "cell_type": "code",
   "execution_count": 136,
   "id": "bb0abb3c",
   "metadata": {},
   "outputs": [
    {
     "data": {
      "text/plain": [
       "array([[0.36280361, 0.41257699, 0.46235104]])"
      ]
     },
     "execution_count": 136,
     "metadata": {},
     "output_type": "execute_result"
    }
   ],
   "source": [
    "W2 = W2 - eta * delta2 @ a1.T      # update weights\n",
    "b2 = b2 - eta * delta2             # update bias\n",
    "W2"
   ]
  },
  {
   "cell_type": "code",
   "execution_count": 137,
   "id": "f6e5d6f3",
   "metadata": {},
   "outputs": [
    {
     "data": {
      "text/plain": [
       "array([[0.14969742, 0.19939484],\n",
       "       [0.24966057, 0.29932114],\n",
       "       [0.34962397, 0.39924794]])"
      ]
     },
     "execution_count": 137,
     "metadata": {},
     "output_type": "execute_result"
    }
   ],
   "source": [
    "W1 = W1 - eta * delta1 @ a0.T      # update weights\n",
    "b1 = b1 - eta * delta1             # update biases\n",
    "W1"
   ]
  }
 ],
 "metadata": {
  "kernelspec": {
   "display_name": "virtual-py",
   "language": "python",
   "name": "python3"
  },
  "language_info": {
   "codemirror_mode": {
    "name": "ipython",
    "version": 3
   },
   "file_extension": ".py",
   "mimetype": "text/x-python",
   "name": "python",
   "nbconvert_exporter": "python",
   "pygments_lexer": "ipython3",
   "version": "3.11.8"
  }
 },
 "nbformat": 4,
 "nbformat_minor": 5
}
