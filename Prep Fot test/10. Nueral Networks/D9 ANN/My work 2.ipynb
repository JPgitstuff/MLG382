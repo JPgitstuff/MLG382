{
 "cells": [
  {
   "cell_type": "code",
   "execution_count": 7,
   "id": "2643e5f4",
   "metadata": {},
   "outputs": [],
   "source": [
    "import numpy as np\n",
    "\n",
    "x = np.array([[0.05],\n",
    "              [0.10]])\n",
    "\n",
    "y = np.array([0.01])\n",
    "a0 = x\n",
    "# Weight matrix for hidden layer (W^{(1)}) – shape (3, 2)\n",
    "W1 = np.array([[0.15, 0.20],\n",
    "               [0.25, 0.30],\n",
    "               [0.35, 0.40]])\n",
    "# Bias vector for hidden layer (b^{(1)}) – shape (3, 1)\n",
    "b1 = np.array([[0.35],\n",
    "               [0.35],\n",
    "               [0.35]])\n",
    "\n",
    "\n",
    "# Weight matrix for output layer (W^{(2)}) – shape (1, 3)\n",
    "W2 = np.array([[0.40, 0.45, 0.50]])\n",
    "# Bias vector for output layer (b^{(2)}) – shape (1, 1)\n",
    "b2 = np.array([[0.60]])\n",
    "\n",
    "eta = 0.5"
   ]
  },
  {
   "cell_type": "code",
   "execution_count": 8,
   "id": "c6557e6e",
   "metadata": {},
   "outputs": [],
   "source": [
    "def sigmoid(z):\n",
    "    return 1 / (1 + np.exp(-z))\n",
    "def sigmoid_derivative (z):\n",
    "    s = sigmoid(z)\n",
    "    return s * (1 - s)"
   ]
  },
  {
   "cell_type": "code",
   "execution_count": 9,
   "id": "9411c165",
   "metadata": {},
   "outputs": [
    {
     "data": {
      "text/plain": [
       "array([[0.59326999],\n",
       "       [0.59688438],\n",
       "       [0.60048827]])"
      ]
     },
     "execution_count": 9,
     "metadata": {},
     "output_type": "execute_result"
    }
   ],
   "source": [
    "z1 = W1 @ a0 + b1\n",
    "a1 = sigmoid(z1)\n",
    "z2 = W2 @ a1 +b2\n",
    "a2 = sigmoid(z2)\n",
    "\n",
    "e = a2 - y\n",
    "loss = 0.5*e.T@e\n",
    "delta2 = (a2 - y) * sigmoid_derivative(z2)\n",
    "delta1 = (W2.T @ delta2) * sigmoid_derivative(z1)\n",
    "\n",
    "\n",
    "W2 = W2 - eta * delta2 @ a1.T      # update weights\n",
    "b2 = b2 - eta * delta2             # update bias\n",
    "W1 = W1 - eta * delta1 @ a0.T      # update weights\n",
    "b1 = b1 - eta * delta1             # update biases\n",
    "\n",
    "a1"
   ]
  },
  {
   "cell_type": "code",
   "execution_count": 10,
   "id": "46aec4cf",
   "metadata": {},
   "outputs": [
    {
     "data": {
      "text/plain": [
       "array([[0.803158]])"
      ]
     },
     "execution_count": 10,
     "metadata": {},
     "output_type": "execute_result"
    }
   ],
   "source": [
    "a2"
   ]
  }
 ],
 "metadata": {
  "kernelspec": {
   "display_name": "virtual-py",
   "language": "python",
   "name": "python3"
  },
  "language_info": {
   "codemirror_mode": {
    "name": "ipython",
    "version": 3
   },
   "file_extension": ".py",
   "mimetype": "text/x-python",
   "name": "python",
   "nbconvert_exporter": "python",
   "pygments_lexer": "ipython3",
   "version": "3.11.8"
  }
 },
 "nbformat": 4,
 "nbformat_minor": 5
}
