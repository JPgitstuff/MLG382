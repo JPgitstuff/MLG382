{
 "cells": [
  {
   "cell_type": "markdown",
   "id": "5416e9c1",
   "metadata": {},
   "source": [
    "Types of Regression\n",
    "There are various types of regression models that can be used in machine learning.\n",
    "\n",
    "- Linear Regression: This is the foundation of regression, it fits a straight line to model the relationship between the independent and dependent variables. It is suitable for understanding linear relationships but can't capture more complex relationships (which is more common in real world problems). It's usually a good starting point.\n",
    "- Polynomial Regression:  Polynomial regression can be used for capturing non-linear relationships, it fits a higher-order polynomial equations (think curves) to the data. But beware of overfitting with too complex polynomials.\n",
    "- Logistic Regression: (Technically not pure regression, but often included due to its name.) Logistic regression is used to predict the probability of an event happening (often binary outcomes like pass/fail). It uses a sigmoid function to map the output between 0 and 1.\n",
    "- Multiple Regression: Multiple regression is a statistical technique used to predict a continuous value using multiple independent variables  at the same time."
   ]
  },
  {
   "cell_type": "code",
   "execution_count": 1,
   "id": "dca28659",
   "metadata": {},
   "outputs": [],
   "source": [
    "import numpy as np \n",
    "import pandas as pd\n",
    "from IPython.display import display\n",
    "import matplotlib.pyplot as plt\n",
    "from sklearn.linear_model import LinearRegression"
   ]
  },
  {
   "cell_type": "code",
   "execution_count": 2,
   "id": "1fd4306a",
   "metadata": {},
   "outputs": [
    {
     "data": {
      "text/html": [
       "<div>\n",
       "<style scoped>\n",
       "    .dataframe tbody tr th:only-of-type {\n",
       "        vertical-align: middle;\n",
       "    }\n",
       "\n",
       "    .dataframe tbody tr th {\n",
       "        vertical-align: top;\n",
       "    }\n",
       "\n",
       "    .dataframe thead th {\n",
       "        text-align: right;\n",
       "    }\n",
       "</style>\n",
       "<table border=\"1\" class=\"dataframe\">\n",
       "  <thead>\n",
       "    <tr style=\"text-align: right;\">\n",
       "      <th></th>\n",
       "      <th>Years Experience</th>\n",
       "      <th>Salary</th>\n",
       "    </tr>\n",
       "  </thead>\n",
       "  <tbody>\n",
       "    <tr>\n",
       "      <th>0</th>\n",
       "      <td>1.1</td>\n",
       "      <td>25805</td>\n",
       "    </tr>\n",
       "    <tr>\n",
       "      <th>1</th>\n",
       "      <td>1.3</td>\n",
       "      <td>21393</td>\n",
       "    </tr>\n",
       "    <tr>\n",
       "      <th>2</th>\n",
       "      <td>1.5</td>\n",
       "      <td>23266</td>\n",
       "    </tr>\n",
       "    <tr>\n",
       "      <th>3</th>\n",
       "      <td>2.0</td>\n",
       "      <td>28108</td>\n",
       "    </tr>\n",
       "    <tr>\n",
       "      <th>4</th>\n",
       "      <td>2.2</td>\n",
       "      <td>31532</td>\n",
       "    </tr>\n",
       "    <tr>\n",
       "      <th>...</th>\n",
       "      <td>...</td>\n",
       "      <td>...</td>\n",
       "    </tr>\n",
       "    <tr>\n",
       "      <th>96</th>\n",
       "      <td>3.4</td>\n",
       "      <td>34465</td>\n",
       "    </tr>\n",
       "    <tr>\n",
       "      <th>97</th>\n",
       "      <td>8.1</td>\n",
       "      <td>60683</td>\n",
       "    </tr>\n",
       "    <tr>\n",
       "      <th>98</th>\n",
       "      <td>3.9</td>\n",
       "      <td>34343</td>\n",
       "    </tr>\n",
       "    <tr>\n",
       "      <th>99</th>\n",
       "      <td>1.6</td>\n",
       "      <td>32291</td>\n",
       "    </tr>\n",
       "    <tr>\n",
       "      <th>100</th>\n",
       "      <td>1.3</td>\n",
       "      <td>19950</td>\n",
       "    </tr>\n",
       "  </tbody>\n",
       "</table>\n",
       "<p>101 rows × 2 columns</p>\n",
       "</div>"
      ],
      "text/plain": [
       "     Years Experience  Salary\n",
       "0                 1.1   25805\n",
       "1                 1.3   21393\n",
       "2                 1.5   23266\n",
       "3                 2.0   28108\n",
       "4                 2.2   31532\n",
       "..                ...     ...\n",
       "96                3.4   34465\n",
       "97                8.1   60683\n",
       "98                3.9   34343\n",
       "99                1.6   32291\n",
       "100               1.3   19950\n",
       "\n",
       "[101 rows x 2 columns]"
      ]
     },
     "metadata": {},
     "output_type": "display_data"
    }
   ],
   "source": [
    "df = pd.read_excel('SalariesVsExperience.xlsx', sheet_name= 'data')\n",
    "display(df)"
   ]
  }
 ],
 "metadata": {
  "kernelspec": {
   "display_name": "Python 3",
   "language": "python",
   "name": "python3"
  },
  "language_info": {
   "codemirror_mode": {
    "name": "ipython",
    "version": 3
   },
   "file_extension": ".py",
   "mimetype": "text/x-python",
   "name": "python",
   "nbconvert_exporter": "python",
   "pygments_lexer": "ipython3",
   "version": "3.11.8"
  }
 },
 "nbformat": 4,
 "nbformat_minor": 5
}
