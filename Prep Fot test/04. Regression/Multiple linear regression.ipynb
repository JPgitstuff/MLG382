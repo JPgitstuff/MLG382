{
 "cells": [
  {
   "cell_type": "markdown",
   "id": "fce3eba1",
   "metadata": {},
   "source": [
    "# Multiple Linear Regression\n",
    "\n",
    "Practical machine learning problems often involve multiple features (or independent variables). **Simple linear regression**, which involves only one independent variable, is often used to illustrate the concept of regression. However, real-world problems usually involve more variables, and that's where **multiple linear regression** comes in.\n",
    "\n",
    "## What is Multiple Linear Regression?\n",
    "\n",
    "**Multiple Linear Regression** is a technique used to model the relationship between a continuous dependent variable (target) and two or more independent variables (features). It's an extension of **simple linear regression**, which deals with only one independent variable.\n",
    "\n",
    "\n",
    "\n"
   ]
  },
  {
   "cell_type": "code",
   "execution_count": 1,
   "id": "166b4406",
   "metadata": {},
   "outputs": [],
   "source": [
    "# Import necessary libraries\n",
    "import pandas as pd\n",
    "from sklearn.model_selection import train_test_split\n",
    "from sklearn.linear_model import LinearRegression\n",
    "from sklearn.metrics import mean_squared_error\n",
    "\n",
    "# Sample data (House prices dataset)\n",
    "data = {\n",
    "    'Square_Feet': [1500, 1800, 2400, 3000, 3500],\n",
    "    'Bedrooms': [3, 4, 3, 5, 4],\n",
    "    'Age': [10, 15, 20, 5, 8],\n",
    "    'Price': [400000, 500000, 600000, 650000, 700000]\n",
    "}\n",
    "\n",
    "# Create a DataFrame\n",
    "df = pd.DataFrame(data)\n"
   ]
  },
  {
   "cell_type": "code",
   "execution_count": 2,
   "id": "e2196141",
   "metadata": {},
   "outputs": [
    {
     "name": "stdout",
     "output_type": "stream",
     "text": [
      "Mean Squared Error: 439085070.8493813\n"
     ]
    }
   ],
   "source": [
    "\n",
    "# Independent variables (features)\n",
    "X = df[['Square_Feet', 'Bedrooms', 'Age']]\n",
    "\n",
    "# Dependent variable (target)\n",
    "y = df['Price']\n",
    "\n",
    "# Split the data into training and testing sets\n",
    "X_train, X_test, y_train, y_test = train_test_split(X, y, test_size=0.2, random_state=42)\n",
    "\n",
    "# Create and train the model\n",
    "model = LinearRegression()\n",
    "model.fit(X_train, y_train)\n",
    "\n",
    "# Make predictions\n",
    "y_pred = model.predict(X_test)\n",
    "\n",
    "# Evaluate the model\n",
    "mse = mean_squared_error(y_test, y_pred)\n",
    "print(f\"Mean Squared Error: {mse}\")\n"
   ]
  },
  {
   "cell_type": "markdown",
   "id": "83006eda",
   "metadata": {},
   "source": [
    "### Key Points:\n",
    "- **Goal**: The goal of multiple linear regression is to predict a continuous target variable based on multiple input features.\n",
    "- **Regression Process**: During the fitting process, multiple linear regression tries to find the best hyperplane that can represent the relationship between the target and the independent variables.\n",
    "- **Hyperplane**: In multiple regression, the hyperplane is represented by a multi-dimensional space where each feature corresponds to a dimension, and the dependent variable is predicted based on the combination of all these features.\n",
    "\n",
    "## Example: Multiple Linear Regression\n",
    "\n",
    "Let's say we want to predict the **house price** based on various independent variables such as **square footage, number of bedrooms, and age of the house**.\n",
    "\n",
    "### Formula:\n",
    "The equation for multiple linear regression is:\n",
    "\\[\n",
    "y = \\beta_0 + \\beta_1 \\cdot X_1 + \\beta_2 \\cdot X_2 + \\beta_3 \\cdot X_3 + \\cdots + \\beta_n \\cdot X_n + \\epsilon\n",
    "\\]\n",
    "Where:\n",
    "- \\( y \\) is the dependent variable (house price)\n",
    "- \\( X_1, X_2, \\cdots, X_n \\) are the independent variables (square footage, number of bedrooms, age)\n",
    "- \\( \\beta_0 \\) is the intercept\n",
    "- \\( \\beta_1, \\beta_2, \\cdots, \\beta_n \\) are the coefficients of each independent variable\n",
    "- \\( \\epsilon \\) is the error term\n"
   ]
  }
 ],
 "metadata": {
  "kernelspec": {
   "display_name": "Python 3",
   "language": "python",
   "name": "python3"
  },
  "language_info": {
   "codemirror_mode": {
    "name": "ipython",
    "version": 3
   },
   "file_extension": ".py",
   "mimetype": "text/x-python",
   "name": "python",
   "nbconvert_exporter": "python",
   "pygments_lexer": "ipython3",
   "version": "3.11.8"
  }
 },
 "nbformat": 4,
 "nbformat_minor": 5
}
