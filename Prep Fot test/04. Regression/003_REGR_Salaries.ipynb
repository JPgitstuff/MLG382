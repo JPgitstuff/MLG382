{
 "cells": [
  {
   "cell_type": "markdown",
   "id": "96a3676d-b941-48b2-a6ba-8988ca787c0f",
   "metadata": {},
   "source": [
    "<b><font size=\"6\">|003|Regression|Salary from experience</font></b>\n",
    "* **Author**: Dino Giovannoni, Francois Venter\n",
    "* **Date:**: 2-July-2024\n",
    "\n",
    "\n",
    "**The Problem:** \n",
    "\n",
    "A employment agency has collected data on data scientist salaries with corresponding years of experience from potential job-seekers. How can the agency use the data to predict the salary for a new client with a certain number of years of experience?"
   ]
  },
  {
   "cell_type": "markdown",
   "id": "3d53a22e-d422-4b19-b9bd-63099dbc80af",
   "metadata": {},
   "source": [
    "# Import libraries\n",
    "\n",
    "It is good programming practice to load the all the required libraries at the beginning of the file.\n",
    "\n",
    "There are three sets of libraries being loaded:\n",
    "\n",
    "  + Firstly the libraries required for basic data manipulation and processing:\n",
    "    * numpy\n",
    "    * pandas   \n",
    "    * IPython.display that is used for displaying pandas DataFrames in a better format in Jupyter notebooks (rather than using `print`.)\n",
    "  + Secondly, the following libraries will be used for data visualization:\n",
    "    * matplotlib \n",
    "  + Finally, we are loading some methods from the sklearn machine learning library."
   ]
  },
  {
   "cell_type": "code",
   "execution_count": 1,
   "id": "d1df7056-28ef-484e-b711-787f6bc9a187",
   "metadata": {},
   "outputs": [],
   "source": [
    "import numpy as np \n",
    "import pandas as pd\n",
    "from IPython.display import display\n",
    "import matplotlib.pyplot as plt\n",
    "from sklearn.linear_model import LinearRegression"
   ]
  },
  {
   "cell_type": "markdown",
   "id": "1ceb3546-4bbf-4b67-ad7f-b5f76408a986",
   "metadata": {},
   "source": [
    "# Load data\n",
    "\n",
    "We can load the CSV file directly into a pandas dataframe as follows:"
   ]
  },
  {
   "cell_type": "code",
   "execution_count": 2,
   "id": "b2aefdd5-423c-4b06-875c-9820e1545af0",
   "metadata": {},
   "outputs": [
    {
     "ename": "ImportError",
     "evalue": "Missing optional dependency 'openpyxl'.  Use pip or conda to install openpyxl.",
     "output_type": "error",
     "traceback": [
      "\u001b[31m---------------------------------------------------------------------------\u001b[39m",
      "\u001b[31mModuleNotFoundError\u001b[39m                       Traceback (most recent call last)",
      "\u001b[36mFile \u001b[39m\u001b[32mc:\\Users\\jpsea\\AppData\\Local\\Programs\\Python\\Python311\\Lib\\site-packages\\pandas\\compat\\_optional.py:135\u001b[39m, in \u001b[36mimport_optional_dependency\u001b[39m\u001b[34m(name, extra, errors, min_version)\u001b[39m\n\u001b[32m    134\u001b[39m \u001b[38;5;28;01mtry\u001b[39;00m:\n\u001b[32m--> \u001b[39m\u001b[32m135\u001b[39m     module = \u001b[43mimportlib\u001b[49m\u001b[43m.\u001b[49m\u001b[43mimport_module\u001b[49m\u001b[43m(\u001b[49m\u001b[43mname\u001b[49m\u001b[43m)\u001b[49m\n\u001b[32m    136\u001b[39m \u001b[38;5;28;01mexcept\u001b[39;00m \u001b[38;5;167;01mImportError\u001b[39;00m:\n",
      "\u001b[36mFile \u001b[39m\u001b[32mc:\\Users\\jpsea\\AppData\\Local\\Programs\\Python\\Python311\\Lib\\importlib\\__init__.py:126\u001b[39m, in \u001b[36mimport_module\u001b[39m\u001b[34m(name, package)\u001b[39m\n\u001b[32m    125\u001b[39m         level += \u001b[32m1\u001b[39m\n\u001b[32m--> \u001b[39m\u001b[32m126\u001b[39m \u001b[38;5;28;01mreturn\u001b[39;00m \u001b[43m_bootstrap\u001b[49m\u001b[43m.\u001b[49m\u001b[43m_gcd_import\u001b[49m\u001b[43m(\u001b[49m\u001b[43mname\u001b[49m\u001b[43m[\u001b[49m\u001b[43mlevel\u001b[49m\u001b[43m:\u001b[49m\u001b[43m]\u001b[49m\u001b[43m,\u001b[49m\u001b[43m \u001b[49m\u001b[43mpackage\u001b[49m\u001b[43m,\u001b[49m\u001b[43m \u001b[49m\u001b[43mlevel\u001b[49m\u001b[43m)\u001b[49m\n",
      "\u001b[36mFile \u001b[39m\u001b[32m<frozen importlib._bootstrap>:1204\u001b[39m, in \u001b[36m_gcd_import\u001b[39m\u001b[34m(name, package, level)\u001b[39m\n",
      "\u001b[36mFile \u001b[39m\u001b[32m<frozen importlib._bootstrap>:1176\u001b[39m, in \u001b[36m_find_and_load\u001b[39m\u001b[34m(name, import_)\u001b[39m\n",
      "\u001b[36mFile \u001b[39m\u001b[32m<frozen importlib._bootstrap>:1140\u001b[39m, in \u001b[36m_find_and_load_unlocked\u001b[39m\u001b[34m(name, import_)\u001b[39m\n",
      "\u001b[31mModuleNotFoundError\u001b[39m: No module named 'openpyxl'",
      "\nDuring handling of the above exception, another exception occurred:\n",
      "\u001b[31mImportError\u001b[39m                               Traceback (most recent call last)",
      "\u001b[36mCell\u001b[39m\u001b[36m \u001b[39m\u001b[32mIn[2]\u001b[39m\u001b[32m, line 1\u001b[39m\n\u001b[32m----> \u001b[39m\u001b[32m1\u001b[39m df = \u001b[43mpd\u001b[49m\u001b[43m.\u001b[49m\u001b[43mread_excel\u001b[49m\u001b[43m(\u001b[49m\u001b[33;43m'\u001b[39;49m\u001b[33;43mSalariesVsExperience.xlsx\u001b[39;49m\u001b[33;43m'\u001b[39;49m\u001b[43m,\u001b[49m\u001b[43m \u001b[49m\u001b[43msheet_name\u001b[49m\u001b[43m=\u001b[49m\u001b[33;43m'\u001b[39;49m\u001b[33;43mdata\u001b[39;49m\u001b[33;43m'\u001b[39;49m\u001b[43m)\u001b[49m\n",
      "\u001b[36mFile \u001b[39m\u001b[32mc:\\Users\\jpsea\\AppData\\Local\\Programs\\Python\\Python311\\Lib\\site-packages\\pandas\\io\\excel\\_base.py:495\u001b[39m, in \u001b[36mread_excel\u001b[39m\u001b[34m(io, sheet_name, header, names, index_col, usecols, dtype, engine, converters, true_values, false_values, skiprows, nrows, na_values, keep_default_na, na_filter, verbose, parse_dates, date_parser, date_format, thousands, decimal, comment, skipfooter, storage_options, dtype_backend, engine_kwargs)\u001b[39m\n\u001b[32m    493\u001b[39m \u001b[38;5;28;01mif\u001b[39;00m \u001b[38;5;129;01mnot\u001b[39;00m \u001b[38;5;28misinstance\u001b[39m(io, ExcelFile):\n\u001b[32m    494\u001b[39m     should_close = \u001b[38;5;28;01mTrue\u001b[39;00m\n\u001b[32m--> \u001b[39m\u001b[32m495\u001b[39m     io = \u001b[43mExcelFile\u001b[49m\u001b[43m(\u001b[49m\n\u001b[32m    496\u001b[39m \u001b[43m        \u001b[49m\u001b[43mio\u001b[49m\u001b[43m,\u001b[49m\n\u001b[32m    497\u001b[39m \u001b[43m        \u001b[49m\u001b[43mstorage_options\u001b[49m\u001b[43m=\u001b[49m\u001b[43mstorage_options\u001b[49m\u001b[43m,\u001b[49m\n\u001b[32m    498\u001b[39m \u001b[43m        \u001b[49m\u001b[43mengine\u001b[49m\u001b[43m=\u001b[49m\u001b[43mengine\u001b[49m\u001b[43m,\u001b[49m\n\u001b[32m    499\u001b[39m \u001b[43m        \u001b[49m\u001b[43mengine_kwargs\u001b[49m\u001b[43m=\u001b[49m\u001b[43mengine_kwargs\u001b[49m\u001b[43m,\u001b[49m\n\u001b[32m    500\u001b[39m \u001b[43m    \u001b[49m\u001b[43m)\u001b[49m\n\u001b[32m    501\u001b[39m \u001b[38;5;28;01melif\u001b[39;00m engine \u001b[38;5;129;01mand\u001b[39;00m engine != io.engine:\n\u001b[32m    502\u001b[39m     \u001b[38;5;28;01mraise\u001b[39;00m \u001b[38;5;167;01mValueError\u001b[39;00m(\n\u001b[32m    503\u001b[39m         \u001b[33m\"\u001b[39m\u001b[33mEngine should not be specified when passing \u001b[39m\u001b[33m\"\u001b[39m\n\u001b[32m    504\u001b[39m         \u001b[33m\"\u001b[39m\u001b[33man ExcelFile - ExcelFile already has the engine set\u001b[39m\u001b[33m\"\u001b[39m\n\u001b[32m    505\u001b[39m     )\n",
      "\u001b[36mFile \u001b[39m\u001b[32mc:\\Users\\jpsea\\AppData\\Local\\Programs\\Python\\Python311\\Lib\\site-packages\\pandas\\io\\excel\\_base.py:1567\u001b[39m, in \u001b[36mExcelFile.__init__\u001b[39m\u001b[34m(self, path_or_buffer, engine, storage_options, engine_kwargs)\u001b[39m\n\u001b[32m   1564\u001b[39m \u001b[38;5;28mself\u001b[39m.engine = engine\n\u001b[32m   1565\u001b[39m \u001b[38;5;28mself\u001b[39m.storage_options = storage_options\n\u001b[32m-> \u001b[39m\u001b[32m1567\u001b[39m \u001b[38;5;28mself\u001b[39m._reader = \u001b[38;5;28;43mself\u001b[39;49m\u001b[43m.\u001b[49m\u001b[43m_engines\u001b[49m\u001b[43m[\u001b[49m\u001b[43mengine\u001b[49m\u001b[43m]\u001b[49m\u001b[43m(\u001b[49m\n\u001b[32m   1568\u001b[39m \u001b[43m    \u001b[49m\u001b[38;5;28;43mself\u001b[39;49m\u001b[43m.\u001b[49m\u001b[43m_io\u001b[49m\u001b[43m,\u001b[49m\n\u001b[32m   1569\u001b[39m \u001b[43m    \u001b[49m\u001b[43mstorage_options\u001b[49m\u001b[43m=\u001b[49m\u001b[43mstorage_options\u001b[49m\u001b[43m,\u001b[49m\n\u001b[32m   1570\u001b[39m \u001b[43m    \u001b[49m\u001b[43mengine_kwargs\u001b[49m\u001b[43m=\u001b[49m\u001b[43mengine_kwargs\u001b[49m\u001b[43m,\u001b[49m\n\u001b[32m   1571\u001b[39m \u001b[43m\u001b[49m\u001b[43m)\u001b[49m\n",
      "\u001b[36mFile \u001b[39m\u001b[32mc:\\Users\\jpsea\\AppData\\Local\\Programs\\Python\\Python311\\Lib\\site-packages\\pandas\\io\\excel\\_openpyxl.py:552\u001b[39m, in \u001b[36mOpenpyxlReader.__init__\u001b[39m\u001b[34m(self, filepath_or_buffer, storage_options, engine_kwargs)\u001b[39m\n\u001b[32m    534\u001b[39m \u001b[38;5;129m@doc\u001b[39m(storage_options=_shared_docs[\u001b[33m\"\u001b[39m\u001b[33mstorage_options\u001b[39m\u001b[33m\"\u001b[39m])\n\u001b[32m    535\u001b[39m \u001b[38;5;28;01mdef\u001b[39;00m\u001b[38;5;250m \u001b[39m\u001b[34m__init__\u001b[39m(\n\u001b[32m    536\u001b[39m     \u001b[38;5;28mself\u001b[39m,\n\u001b[32m   (...)\u001b[39m\u001b[32m    539\u001b[39m     engine_kwargs: \u001b[38;5;28mdict\u001b[39m | \u001b[38;5;28;01mNone\u001b[39;00m = \u001b[38;5;28;01mNone\u001b[39;00m,\n\u001b[32m    540\u001b[39m ) -> \u001b[38;5;28;01mNone\u001b[39;00m:\n\u001b[32m    541\u001b[39m \u001b[38;5;250m    \u001b[39m\u001b[33;03m\"\"\"\u001b[39;00m\n\u001b[32m    542\u001b[39m \u001b[33;03m    Reader using openpyxl engine.\u001b[39;00m\n\u001b[32m    543\u001b[39m \n\u001b[32m   (...)\u001b[39m\u001b[32m    550\u001b[39m \u001b[33;03m        Arbitrary keyword arguments passed to excel engine.\u001b[39;00m\n\u001b[32m    551\u001b[39m \u001b[33;03m    \"\"\"\u001b[39;00m\n\u001b[32m--> \u001b[39m\u001b[32m552\u001b[39m     \u001b[43mimport_optional_dependency\u001b[49m\u001b[43m(\u001b[49m\u001b[33;43m\"\u001b[39;49m\u001b[33;43mopenpyxl\u001b[39;49m\u001b[33;43m\"\u001b[39;49m\u001b[43m)\u001b[49m\n\u001b[32m    553\u001b[39m     \u001b[38;5;28msuper\u001b[39m().\u001b[34m__init__\u001b[39m(\n\u001b[32m    554\u001b[39m         filepath_or_buffer,\n\u001b[32m    555\u001b[39m         storage_options=storage_options,\n\u001b[32m    556\u001b[39m         engine_kwargs=engine_kwargs,\n\u001b[32m    557\u001b[39m     )\n",
      "\u001b[36mFile \u001b[39m\u001b[32mc:\\Users\\jpsea\\AppData\\Local\\Programs\\Python\\Python311\\Lib\\site-packages\\pandas\\compat\\_optional.py:138\u001b[39m, in \u001b[36mimport_optional_dependency\u001b[39m\u001b[34m(name, extra, errors, min_version)\u001b[39m\n\u001b[32m    136\u001b[39m \u001b[38;5;28;01mexcept\u001b[39;00m \u001b[38;5;167;01mImportError\u001b[39;00m:\n\u001b[32m    137\u001b[39m     \u001b[38;5;28;01mif\u001b[39;00m errors == \u001b[33m\"\u001b[39m\u001b[33mraise\u001b[39m\u001b[33m\"\u001b[39m:\n\u001b[32m--> \u001b[39m\u001b[32m138\u001b[39m         \u001b[38;5;28;01mraise\u001b[39;00m \u001b[38;5;167;01mImportError\u001b[39;00m(msg)\n\u001b[32m    139\u001b[39m     \u001b[38;5;28;01mreturn\u001b[39;00m \u001b[38;5;28;01mNone\u001b[39;00m\n\u001b[32m    141\u001b[39m \u001b[38;5;66;03m# Handle submodules: if we have submodule, grab parent module from sys.modules\u001b[39;00m\n",
      "\u001b[31mImportError\u001b[39m: Missing optional dependency 'openpyxl'.  Use pip or conda to install openpyxl."
     ]
    }
   ],
   "source": [
    "df = pd.read_excel('SalariesVsExperience.xlsx', sheet_name='data')"
   ]
  },
  {
   "cell_type": "markdown",
   "id": "c8c85fe1-54ee-4a2e-bda9-e3fd003d060e",
   "metadata": {},
   "source": [
    "# Understanding the Data\n",
    "\n",
    "The first step must always be to understand the data we are dealing with. \n",
    "We will do this by loading the data and just \"looking at the data\"."
   ]
  },
  {
   "cell_type": "markdown",
   "id": "91961a39-af52-403c-82c4-dbe7780151b0",
   "metadata": {
    "tags": []
   },
   "source": [
    "## Inspect the data\n",
    "\n",
    "After having loaded the data from the data file, it's usually a good idea to inspect the data. Fortunately, pandas provides a few methods to help with this task."
   ]
  },
  {
   "cell_type": "markdown",
   "id": "aa1cd924-54b8-43a2-b7cb-22cafa150902",
   "metadata": {
    "tags": []
   },
   "source": [
    "### A sample of data\n",
    "\n",
    "The `DataFrame.head()` method displays the first 5 rows of the dataframe. (You could also use `DataFrame.tail()` to display the last 5 rows.)"
   ]
  },
  {
   "cell_type": "code",
   "execution_count": null,
   "id": "2dc2c80d-0cac-45fc-ae50-f41c9fae9b24",
   "metadata": {
    "tags": []
   },
   "outputs": [],
   "source": [
    "display(df.head())"
   ]
  },
  {
   "cell_type": "markdown",
   "id": "185f07a4-d798-4fd6-8a32-2223607aed7b",
   "metadata": {},
   "source": [
    "From this we see that there are two columns of data, each with numerical values."
   ]
  },
  {
   "cell_type": "markdown",
   "id": "b63d94e7-8f21-422c-8ddd-702e9b5d304d",
   "metadata": {},
   "source": [
    "### Inspect information about the dataframe \n",
    "Another useful pandas method is the `DataFrame.info()` method that provides a list of the DataFrame columns and the data types in each of the columns."
   ]
  },
  {
   "cell_type": "code",
   "execution_count": null,
   "id": "1cc08481-b869-4cee-885f-2a58c6a5fa28",
   "metadata": {
    "tags": []
   },
   "outputs": [],
   "source": [
    "display(df.info())"
   ]
  },
  {
   "cell_type": "markdown",
   "id": "a870d2da-7ba6-48e0-ac94-330a3c6246af",
   "metadata": {},
   "source": [
    "Here we see that there are 101 data entries and no non-null values. In other words, there are no missing data values. This won't always be the case! In later examples, we will see various ways of dealing with missing or messy data values. We can see that the two data columns are `float64` and `int64` numbers."
   ]
  },
  {
   "cell_type": "markdown",
   "id": "fd8acbb8-2c0c-4e18-a496-c973ebbec6fd",
   "metadata": {},
   "source": [
    "## Exploratory Data Analysis"
   ]
  },
  {
   "cell_type": "markdown",
   "id": "0e93fd55-cc2d-4411-a618-8f68f93883aa",
   "metadata": {
    "tags": []
   },
   "source": [
    "### Descriptive statistics\n",
    "\n",
    "It is often useful to extract various descriptive statistics from the dataset.\n",
    "Again, `pandas` comes to the rescue with a method that performs all the common descriptive statistics:"
   ]
  },
  {
   "cell_type": "code",
   "execution_count": null,
   "id": "bee06c12-37c4-4cfb-a647-2018201d3ebd",
   "metadata": {
    "tags": []
   },
   "outputs": [],
   "source": [
    "display(df.describe())"
   ]
  },
  {
   "cell_type": "markdown",
   "id": "d1d3212d-6f90-4163-bcb9-2d97616cb8ba",
   "metadata": {},
   "source": [
    "This is an extremely useful method in pandas as it quickly calculates  some descriptive statistics for the data.\n",
    "For example, we can see that:\n",
    "  * The data consists of 6 data points.\n",
    "  * The **Marketing Expenditure** variable is in the range of R105,720 to a maximum of R603,730.\n",
    "  * The **Sales Revenue** variable is in the range of R2,003,660 to a maximum of R6,369,420.\n",
    "  \n",
    "In addition, the mean, standard deviation and inter-quartile range boundaries are provided. "
   ]
  },
  {
   "cell_type": "markdown",
   "id": "60d9bb69-aa81-4a37-9e65-890e6f663e0e",
   "metadata": {
    "tags": []
   },
   "source": [
    "## Visualization"
   ]
  },
  {
   "cell_type": "markdown",
   "id": "ab7cab1e-ea65-4f02-92ca-f975d828b91b",
   "metadata": {},
   "source": [
    "It's almost always a good idea to visualiza the data in some way.\n",
    "The quickest way to visualize data in a pandas dataframe is by using built in pandas methods.\n",
    "\n",
    "To generate a scatter plot, we use the pandas built-in method as follows:"
   ]
  },
  {
   "cell_type": "code",
   "execution_count": null,
   "id": "d9b65eb7-945d-4c8c-ac15-ed492a37994c",
   "metadata": {},
   "outputs": [],
   "source": [
    "ax = df.plot.scatter(x='Years Experience', y='Salary', c='blue', s=10)"
   ]
  },
  {
   "cell_type": "markdown",
   "id": "0577414e-c2c0-4312-ab47-f31ad992197e",
   "metadata": {},
   "source": [
    "The importance of producing this plot is that we can immediately see that the data is approximately linear.\n",
    "That means that a **linear regression model** could be appropriate model for the data.\n",
    "(In later examples, we will encounter more sophisticated ways to make these kinds of decisions.)\n",
    "\n",
    "It is also evident that the data is strongly correlated."
   ]
  },
  {
   "cell_type": "markdown",
   "id": "09464f46-7f56-4945-82f9-088bd1b36fc7",
   "metadata": {},
   "source": [
    "### Calculate the correlation coeffient"
   ]
  },
  {
   "cell_type": "markdown",
   "id": "ee1cc998-fb0b-45bc-a1a5-975e5478db59",
   "metadata": {},
   "source": [
    "Display the correlation matrix."
   ]
  },
  {
   "cell_type": "code",
   "execution_count": null,
   "id": "012b2e1e-cff6-484a-89ce-37b97c3d9d87",
   "metadata": {
    "tags": []
   },
   "outputs": [],
   "source": [
    "df.corr()"
   ]
  },
  {
   "cell_type": "code",
   "execution_count": null,
   "id": "26d4ae5b-77c2-4120-8fd5-678f46d7aee7",
   "metadata": {
    "tags": []
   },
   "outputs": [],
   "source": [
    "corr_matrix = df.corr().to_numpy()\n",
    "print(f'The correlation coefficient is {np.round(corr_matrix[0][1],4)}')"
   ]
  },
  {
   "cell_type": "markdown",
   "id": "2294f03e-61fc-47c6-9a47-3f27908e7c5e",
   "metadata": {
    "tags": []
   },
   "source": [
    "# Linear Regression Model"
   ]
  },
  {
   "cell_type": "markdown",
   "id": "077a3413-4a88-4aff-8d4a-8d6d37db2ef4",
   "metadata": {},
   "source": [
    "## Construct training data variable"
   ]
  },
  {
   "cell_type": "markdown",
   "id": "f5d77e12-5c78-491b-ac1c-ba3434e85033",
   "metadata": {},
   "source": [
    "Split the raw data into the input and output training data."
   ]
  },
  {
   "cell_type": "code",
   "execution_count": null,
   "id": "f5383d11-26f4-4175-8f5a-e21c137f7caf",
   "metadata": {},
   "outputs": [],
   "source": [
    "# Crude Way\n",
    "# x_train = np.array(df['Years Experience']).reshape(-1, 1)\n",
    "# y_train = np.array(df['Salary']).reshape(-1, 1)\n",
    "\n",
    "# Using Dataframe\n",
    "x_train = df['Years Experience'].to_frame()\n",
    "y_train = df['Salary'].to_frame()"
   ]
  },
  {
   "cell_type": "markdown",
   "id": "977004de-c5ba-47ed-9d4f-acbf7100b589",
   "metadata": {},
   "source": [
    "## Construct and train model"
   ]
  },
  {
   "cell_type": "code",
   "execution_count": null,
   "id": "a3756fe2-dcc6-45dd-b7b0-1bebb3224fae",
   "metadata": {
    "tags": []
   },
   "outputs": [],
   "source": [
    "model = LinearRegression()\n",
    "model.fit(x_train, y_train)"
   ]
  },
  {
   "cell_type": "markdown",
   "id": "fbb5d6d7-b8be-4f87-b99f-92f83f437ada",
   "metadata": {},
   "source": [
    "# Model Evaluation"
   ]
  },
  {
   "cell_type": "markdown",
   "id": "a36fd990-86e5-437e-b31e-a4c9e69a8ffb",
   "metadata": {},
   "source": [
    "## Model parameters"
   ]
  },
  {
   "cell_type": "markdown",
   "id": "81659b8e-9deb-4456-885b-74836b59c9ba",
   "metadata": {},
   "source": [
    "We can extract the model parameters."
   ]
  },
  {
   "cell_type": "code",
   "execution_count": null,
   "id": "2c4bb5de-faf5-4f48-af8b-0c2197f0bc15",
   "metadata": {},
   "outputs": [],
   "source": [
    "m = model.coef_[0][0]\n",
    "c = model.intercept_[0]\n",
    "print(f'Slope: {np.round(m,2)}, Intercept: {np.round(c,2)}')"
   ]
  },
  {
   "cell_type": "markdown",
   "id": "e5272f01-74bb-486f-90c7-9242a8a677ce",
   "metadata": {},
   "source": [
    "## Prediction for specific value"
   ]
  },
  {
   "cell_type": "code",
   "execution_count": null,
   "id": "5029bb9d-3609-4ec7-bcb9-ea906b5e3cb1",
   "metadata": {},
   "outputs": [],
   "source": [
    "x_value = {\"Years Experience\" :4}\n",
    "\n",
    "x_pred = pd.DataFrame(x_value, index = [0])\n",
    "y_pred = model.predict(x_pred)\n",
    "y_value = y_pred[0][0]\n",
    "print(f'For {x_value}, the predicted monthly salary is R{np.round(y_value,2)}.')"
   ]
  },
  {
   "cell_type": "markdown",
   "id": "08d4820e-89ef-4e6f-8042-6b1a53ed820f",
   "metadata": {},
   "source": [
    "## Plotting the Regression Line"
   ]
  },
  {
   "cell_type": "markdown",
   "id": "bdeab9bf-d113-47e8-ba94-4397adae5735",
   "metadata": {},
   "source": [
    "Construct range of datapoints for the prediction."
   ]
  },
  {
   "cell_type": "code",
   "execution_count": null,
   "id": "f0ad5ab5-e5b2-48a5-9800-c2fc963c4d83",
   "metadata": {
    "tags": []
   },
   "outputs": [],
   "source": [
    "xn = np.linspace(0,10,101)\n",
    "x_values = {'Years Experience' : xn}\n",
    "\n",
    "x = pd.DataFrame(x_values)\n",
    "y = model.predict(x)"
   ]
  },
  {
   "cell_type": "code",
   "execution_count": null,
   "id": "6920761e-c517-4e43-b164-e9e3a7bb6f41",
   "metadata": {},
   "outputs": [],
   "source": [
    "# An alternative way\n",
    "# x = np.linspace(0,10,101)\n",
    "# y = m*x+c"
   ]
  },
  {
   "cell_type": "code",
   "execution_count": null,
   "id": "48c048a7-1b75-489d-b529-7917c628e99e",
   "metadata": {
    "tags": []
   },
   "outputs": [],
   "source": [
    "fig, ax = plt.subplots(figsize=(5, 4))\n",
    "plt.scatter(x_train, y_train, color='blue', s=10)\n",
    "plt.plot(x,y, color='red')\n",
    "plt.xlabel('Years Experience')\n",
    "plt.ylabel('Salary (R)')\n",
    "plt.xlim([0,10])\n",
    "plt.show()"
   ]
  }
 ],
 "metadata": {
  "kernelspec": {
   "display_name": "Python 3",
   "language": "python",
   "name": "python3"
  },
  "language_info": {
   "codemirror_mode": {
    "name": "ipython",
    "version": 3
   },
   "file_extension": ".py",
   "mimetype": "text/x-python",
   "name": "python",
   "nbconvert_exporter": "python",
   "pygments_lexer": "ipython3",
   "version": "3.11.8"
  }
 },
 "nbformat": 4,
 "nbformat_minor": 5
}
